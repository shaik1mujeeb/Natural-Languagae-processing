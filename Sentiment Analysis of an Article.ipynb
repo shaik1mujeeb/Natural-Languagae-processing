{
 "cells": [
  {
   "cell_type": "code",
   "execution_count": 34,
   "metadata": {},
   "outputs": [],
   "source": [
    "# Import the libraries\n",
    "# Text cleaning: Basic step is to remove punctuations, 2nd is to convert entire text to lower case or upper case\n",
    "#Re moving the stop words(occuring frequenlty in a sentence that have no significance)\n",
    "# step4 is to remove unnecessary characters(\\n) steps5: Tokenization-sentence or word tokens, step6: Stemming or lemmatization\n",
    "#(stemming removes end words like playing will have ing truncated, lemmatization gives meaningful words.)\n",
    "#Advanced preprocessing- Normalization( words like ttyl, b4 shrt form of words will be mapped to it's acutal word)\n",
    "# correction of typos= fen when it's fan\n",
    "from textblob import TextBlob"
   ]
  },
  {
   "cell_type": "code",
   "execution_count": 35,
   "metadata": {},
   "outputs": [],
   "source": [
    "import nltk  # Natural language ToolKit to perform NLP"
   ]
  },
  {
   "cell_type": "code",
   "execution_count": 36,
   "metadata": {},
   "outputs": [],
   "source": [
    "from newspaper import Article      # To pull up the aricles from a newspaper3k library or\n",
    "#Newspaper is an amazing python library for extracting articles."
   ]
  },
  {
   "cell_type": "code",
   "execution_count": 37,
   "metadata": {},
   "outputs": [],
   "source": [
    "url=\"https://www.thehindu.com/news/national/coronavirus-lockdown-pm-modi-ends-work-from-home-for-ministers/article31318405.ece\"\n",
    "article=Article(url)   # Article() is a function"
   ]
  },
  {
   "cell_type": "code",
   "execution_count": 38,
   "metadata": {},
   "outputs": [
    {
     "name": "stderr",
     "output_type": "stream",
     "text": [
      "[nltk_data] Downloading package punkt to\n",
      "[nltk_data]     C:\\Users\\Admin\\AppData\\Roaming\\nltk_data...\n",
      "[nltk_data]   Package punkt is already up-to-date!\n"
     ]
    }
   ],
   "source": [
    "# As per the newspaper library document we use the following function\n",
    "article.download()    # It helps you download the article\n",
    "article.parse()    # It helps you to perform parsing\n",
    "nltk.download(\"punkt\")   # Punkt tokenizer helps you split the text into list of sentences\n",
    "article.nlp()   # It performs all the NLP"
   ]
  },
  {
   "cell_type": "code",
   "execution_count": 39,
   "metadata": {},
   "outputs": [],
   "source": [
    "# Get the summary of the article\n",
    "text=article.summary #To extract summary of the article"
   ]
  },
  {
   "cell_type": "code",
   "execution_count": 40,
   "metadata": {},
   "outputs": [
    {
     "name": "stdout",
     "output_type": "stream",
     "text": [
      "Prime Minister Modi on Saturday asked his council of ministers to end “Work from home” and resume work from ministerial offices from Tuesday (Monday is baisakhi and Ambedkar Jayanti).\n",
      "COVID-19 | Interactive map of confirmed coronavirus cases in IndiaMr. Modi has also said Standard Operating Procedures (SoP) should be put in place for maintaining social distance at their offices.\n",
      "Class II, III and IV staff will work from office on a rotational basis.\n",
      "States will be allowed in easing restrictions for agriculture, while the Union government will work with large industries for staggered resumption of production.\n",
      "States will be allowed in easing restrictions for agriculture, while the Union government will work with large industries for staggered resumption of production.\n"
     ]
    }
   ],
   "source": [
    "# Print the text\n",
    "print(text)"
   ]
  },
  {
   "cell_type": "code",
   "execution_count": 41,
   "metadata": {},
   "outputs": [],
   "source": [
    "# To know more of the articles\n",
    "article.publish_date  #If you wanna know the articles published date"
   ]
  },
  {
   "cell_type": "code",
   "execution_count": 42,
   "metadata": {},
   "outputs": [
    {
     "data": {
      "text/plain": [
       "'Prime Minister Modi on Saturday asked his council of ministers to end “Work from home” and resume work from ministerial offices from Tuesday (Monday is baisakhi and Ambedkar Jayanti).\\n\\nCOVID-19 | Interactive map of confirmed coronavirus cases in India\\n\\nMr. Modi has also said Standard Operating Procedures (SoP) should be put in place for maintaining social distance at their offices. Senior officers (Joint Secretaries and above) are also asked to report to work. Class II, III and IV staff will work from office on a rotational basis.\\n\\nPrime Minister Modi in his interaction with chief ministers had indicated that the all India lockdown will be extended but had also said that “jaan hai to jahaan hai (the world is for he who lives) should be modified to “Jaan bhi, Jahaan bhi” (Life, but the World too). These instruction appear part of that evolution. States will be allowed in easing restrictions for agriculture, while the Union government will work with large industries for staggered resumption of production.\\n\\nStates will be allowed in easing restrictions for agriculture, while the Union government will work with large industries for staggered resumption of production.\\n\\nNo decision as yet has been taken on resuming airlines trains and interstate transport.'"
      ]
     },
     "execution_count": 42,
     "metadata": {},
     "output_type": "execute_result"
    }
   ],
   "source": [
    " article.text # Gives the text of the Articlee with all the mess"
   ]
  },
  {
   "cell_type": "code",
   "execution_count": 44,
   "metadata": {},
   "outputs": [
    {
     "name": "stdout",
     "output_type": "stream",
     "text": [
      "https://www.thehindu.com/news/national/jpmdj2/article31271654.ece/ALTERNATES/LANDSCAPE_615/NKV-NARENDRAMODI\n"
     ]
    }
   ],
   "source": [
    "print(article.top_image)  # It gives you if you have any image on the artcile"
   ]
  },
  {
   "cell_type": "code",
   "execution_count": 45,
   "metadata": {},
   "outputs": [],
   "source": [
    "# Let's create a textblob object\n",
    "# TextBlob is a Python (2 and 3) library for processing textual data. It helps us in sentimental analysis,Noun-phrase extraction\n",
    "#Parts of speech Tagging, \n",
    "#Tokenization (splitting text into words and sentences)\n",
    "#Word and phrase frequencies\n",
    "#Parsing\n",
    "#n-grams\n",
    "obj=TextBlob(text) \n"
   ]
  },
  {
   "cell_type": "code",
   "execution_count": 46,
   "metadata": {},
   "outputs": [
    {
     "name": "stdout",
     "output_type": "stream",
     "text": [
      "Prime Minister Modi on Saturday asked his council of ministers to end “Work from home” and resume work from ministerial offices from Tuesday (Monday is baisakhi and Ambedkar Jayanti).\n",
      "COVID-19 | Interactive map of confirmed coronavirus cases in IndiaMr. Modi has also said Standard Operating Procedures (SoP) should be put in place for maintaining social distance at their offices.\n",
      "Class II, III and IV staff will work from office on a rotational basis.\n",
      "States will be allowed in easing restrictions for agriculture, while the Union government will work with large industries for staggered resumption of production.\n",
      "States will be allowed in easing restrictions for agriculture, while the Union government will work with large industries for staggered resumption of production.\n"
     ]
    }
   ],
   "source": [
    "print(obj)"
   ]
  },
  {
   "cell_type": "code",
   "execution_count": 47,
   "metadata": {},
   "outputs": [
    {
     "data": {
      "text/plain": [
       "[('Prime', 'NNP'),\n",
       " ('Minister', 'NNP'),\n",
       " ('Modi', 'NNP'),\n",
       " ('on', 'IN'),\n",
       " ('Saturday', 'NNP'),\n",
       " ('asked', 'VBD'),\n",
       " ('his', 'PRP$'),\n",
       " ('council', 'NN'),\n",
       " ('of', 'IN'),\n",
       " ('ministers', 'NNS'),\n",
       " ('to', 'TO'),\n",
       " ('end', 'VB'),\n",
       " ('“', 'JJ'),\n",
       " ('Work', 'NN'),\n",
       " ('from', 'IN'),\n",
       " ('home', 'NN'),\n",
       " ('”', 'NN'),\n",
       " ('and', 'CC'),\n",
       " ('resume', 'JJ'),\n",
       " ('work', 'NN'),\n",
       " ('from', 'IN'),\n",
       " ('ministerial', 'JJ'),\n",
       " ('offices', 'NNS'),\n",
       " ('from', 'IN'),\n",
       " ('Tuesday', 'NNP'),\n",
       " ('Monday', 'NNP'),\n",
       " ('is', 'VBZ'),\n",
       " ('baisakhi', 'JJ'),\n",
       " ('and', 'CC'),\n",
       " ('Ambedkar', 'NNP'),\n",
       " ('Jayanti', 'NNP'),\n",
       " ('COVID-19', 'JJ'),\n",
       " ('|', 'NNP'),\n",
       " ('Interactive', 'NNP'),\n",
       " ('map', 'NN'),\n",
       " ('of', 'IN'),\n",
       " ('confirmed', 'VBN'),\n",
       " ('coronavirus', 'NN'),\n",
       " ('cases', 'NNS'),\n",
       " ('in', 'IN'),\n",
       " ('IndiaMr', 'NNP'),\n",
       " ('Modi', 'NNP'),\n",
       " ('has', 'VBZ'),\n",
       " ('also', 'RB'),\n",
       " ('said', 'VBD'),\n",
       " ('Standard', 'NNP'),\n",
       " ('Operating', 'NNP'),\n",
       " ('Procedures', 'NNP'),\n",
       " ('SoP', 'NNP'),\n",
       " ('should', 'MD'),\n",
       " ('be', 'VB'),\n",
       " ('put', 'VBN'),\n",
       " ('in', 'IN'),\n",
       " ('place', 'NN'),\n",
       " ('for', 'IN'),\n",
       " ('maintaining', 'VBG'),\n",
       " ('social', 'JJ'),\n",
       " ('distance', 'NN'),\n",
       " ('at', 'IN'),\n",
       " ('their', 'PRP$'),\n",
       " ('offices', 'NNS'),\n",
       " ('Class', 'NNP'),\n",
       " ('II', 'NNP'),\n",
       " ('III', 'NNP'),\n",
       " ('and', 'CC'),\n",
       " ('IV', 'NNP'),\n",
       " ('staff', 'NN'),\n",
       " ('will', 'MD'),\n",
       " ('work', 'VB'),\n",
       " ('from', 'IN'),\n",
       " ('office', 'NN'),\n",
       " ('on', 'IN'),\n",
       " ('a', 'DT'),\n",
       " ('rotational', 'JJ'),\n",
       " ('basis', 'NN'),\n",
       " ('States', 'NNS'),\n",
       " ('will', 'MD'),\n",
       " ('be', 'VB'),\n",
       " ('allowed', 'VBN'),\n",
       " ('in', 'IN'),\n",
       " ('easing', 'VBG'),\n",
       " ('restrictions', 'NNS'),\n",
       " ('for', 'IN'),\n",
       " ('agriculture', 'NN'),\n",
       " ('while', 'IN'),\n",
       " ('the', 'DT'),\n",
       " ('Union', 'NNP'),\n",
       " ('government', 'NN'),\n",
       " ('will', 'MD'),\n",
       " ('work', 'VB'),\n",
       " ('with', 'IN'),\n",
       " ('large', 'JJ'),\n",
       " ('industries', 'NNS'),\n",
       " ('for', 'IN'),\n",
       " ('staggered', 'JJ'),\n",
       " ('resumption', 'NN'),\n",
       " ('of', 'IN'),\n",
       " ('production', 'NN'),\n",
       " ('States', 'NNS'),\n",
       " ('will', 'MD'),\n",
       " ('be', 'VB'),\n",
       " ('allowed', 'VBN'),\n",
       " ('in', 'IN'),\n",
       " ('easing', 'VBG'),\n",
       " ('restrictions', 'NNS'),\n",
       " ('for', 'IN'),\n",
       " ('agriculture', 'NN'),\n",
       " ('while', 'IN'),\n",
       " ('the', 'DT'),\n",
       " ('Union', 'NNP'),\n",
       " ('government', 'NN'),\n",
       " ('will', 'MD'),\n",
       " ('work', 'VB'),\n",
       " ('with', 'IN'),\n",
       " ('large', 'JJ'),\n",
       " ('industries', 'NNS'),\n",
       " ('for', 'IN'),\n",
       " ('staggered', 'JJ'),\n",
       " ('resumption', 'NN'),\n",
       " ('of', 'IN'),\n",
       " ('production', 'NN')]"
      ]
     },
     "execution_count": 47,
     "metadata": {},
     "output_type": "execute_result"
    }
   ],
   "source": [
    "obj.tags   #Gives details of parts of speech tagging"
   ]
  },
  {
   "cell_type": "code",
   "execution_count": 49,
   "metadata": {},
   "outputs": [
    {
     "name": "stderr",
     "output_type": "stream",
     "text": [
      "[nltk_data] Downloading package brown to\n",
      "[nltk_data]     C:\\Users\\Admin\\AppData\\Roaming\\nltk_data...\n",
      "[nltk_data]   Package brown is already up-to-date!\n"
     ]
    },
    {
     "data": {
      "text/plain": [
       "True"
      ]
     },
     "execution_count": 49,
     "metadata": {},
     "output_type": "execute_result"
    }
   ],
   "source": [
    "nltk.download(\"brown\")  # Helps to extract noun_phrases"
   ]
  },
  {
   "cell_type": "code",
   "execution_count": 50,
   "metadata": {},
   "outputs": [
    {
     "data": {
      "text/plain": [
       "WordList(['prime', 'modi', '“ work', 'resume work', 'ministerial offices', 'ambedkar jayanti', 'covid-19', 'interactive', 'coronavirus cases', 'indiamr', 'modi', 'procedures', 'sop', 'social distance', 'ii', 'iii', 'iv', 'rotational basis', 'union government', 'large industries', 'union government', 'large industries'])"
      ]
     },
     "execution_count": 50,
     "metadata": {},
     "output_type": "execute_result"
    }
   ],
   "source": [
    "obj.noun_phrases  # A noun phrase is a group of words that serves the same purpose as a noun. A noun phrase can be the subject or object of a verb. It can also be the object of a preposition."
   ]
  },
  {
   "cell_type": "code",
   "execution_count": 51,
   "metadata": {},
   "outputs": [
    {
     "data": {
      "text/plain": [
       "[Sentence(\"Prime Minister Modi on Saturday asked his council of ministers to end “Work from home” and resume work from ministerial offices from Tuesday (Monday is baisakhi and Ambedkar Jayanti).\"),\n",
       " Sentence(\"COVID-19 | Interactive map of confirmed coronavirus cases in IndiaMr.\"),\n",
       " Sentence(\"Modi has also said Standard Operating Procedures (SoP) should be put in place for maintaining social distance at their offices.\"),\n",
       " Sentence(\"Class II, III and IV staff will work from office on a rotational basis.\"),\n",
       " Sentence(\"States will be allowed in easing restrictions for agriculture, while the Union government will work with large industries for staggered resumption of production.\"),\n",
       " Sentence(\"States will be allowed in easing restrictions for agriculture, while the Union government will work with large industries for staggered resumption of production.\")]"
      ]
     },
     "execution_count": 51,
     "metadata": {},
     "output_type": "execute_result"
    }
   ],
   "source": [
    "obj.sentences  # It gives you all the sentences in the object"
   ]
  },
  {
   "cell_type": "code",
   "execution_count": 53,
   "metadata": {},
   "outputs": [
    {
     "data": {
      "text/plain": [
       "0.17238095238095238"
      ]
     },
     "execution_count": 53,
     "metadata": {},
     "output_type": "execute_result"
    }
   ],
   "source": [
    "obj.sentiment.polarity #Over all it's a positive sentence."
   ]
  },
  {
   "cell_type": "code",
   "execution_count": 52,
   "metadata": {
    "scrolled": true
   },
   "outputs": [
    {
     "name": "stdout",
     "output_type": "stream",
     "text": [
      "0.0\n",
      "This is a neutral sentence\n",
      "0.4\n",
      "This is a Positive sentence\n",
      "0.016666666666666666\n",
      "This is a Positive sentence\n",
      "0.0\n",
      "This is a neutral sentence\n",
      "0.21428571428571427\n",
      "This is a Positive sentence\n",
      "0.21428571428571427\n",
      "This is a Positive sentence\n"
     ]
    }
   ],
   "source": [
    "for sentence in obj.sentences:   # Returns the value between -1 and 1\n",
    "    print(sentence.sentiment.polarity)\n",
    "    if sentence.sentiment.polarity>0:\n",
    "        print(\"This is a Positive sentence\")\n",
    "    elif sentence.sentiment.polarity==0:\n",
    "        print(\"This is a neutral sentence\")\n",
    "    else:\n",
    "        print(\"This is a negative sentence\")\n",
    "        \n",
    "    "
   ]
  },
  {
   "cell_type": "code",
   "execution_count": null,
   "metadata": {},
   "outputs": [],
   "source": []
  }
 ],
 "metadata": {
  "kernelspec": {
   "display_name": "Python 3",
   "language": "python",
   "name": "python3"
  },
  "language_info": {
   "codemirror_mode": {
    "name": "ipython",
    "version": 3
   },
   "file_extension": ".py",
   "mimetype": "text/x-python",
   "name": "python",
   "nbconvert_exporter": "python",
   "pygments_lexer": "ipython3",
   "version": "3.7.4"
  }
 },
 "nbformat": 4,
 "nbformat_minor": 2
}
